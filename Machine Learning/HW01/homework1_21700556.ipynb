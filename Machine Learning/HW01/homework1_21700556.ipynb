{
 "cells": [
  {
   "cell_type": "markdown",
   "metadata": {},
   "source": [
    "# Homework Assignment 1"
   ]
  },
  {
   "cell_type": "code",
   "execution_count": 1,
   "metadata": {},
   "outputs": [
    {
     "name": "stdout",
     "output_type": "stream",
     "text": [
      "Requirement already satisfied: numpy in /Library/Frameworks/Python.framework/Versions/3.7/lib/python3.7/site-packages (1.19.2)\n",
      "\u001b[33mWARNING: You are using pip version 20.2.3; however, version 20.2.4 is available.\n",
      "You should consider upgrading via the '/Library/Frameworks/Python.framework/Versions/3.7/bin/python3.7 -m pip install --upgrade pip' command.\u001b[0m\n",
      "Requirement already satisfied: matplotlib in /Library/Frameworks/Python.framework/Versions/3.7/lib/python3.7/site-packages (3.3.2)\n",
      "Requirement already satisfied: pillow>=6.2.0 in /Library/Frameworks/Python.framework/Versions/3.7/lib/python3.7/site-packages (from matplotlib) (7.2.0)\n",
      "Requirement already satisfied: pyparsing!=2.0.4,!=2.1.2,!=2.1.6,>=2.0.3 in /Library/Frameworks/Python.framework/Versions/3.7/lib/python3.7/site-packages (from matplotlib) (2.4.7)\n",
      "Requirement already satisfied: numpy>=1.15 in /Library/Frameworks/Python.framework/Versions/3.7/lib/python3.7/site-packages (from matplotlib) (1.19.2)\n",
      "Requirement already satisfied: certifi>=2020.06.20 in /Library/Frameworks/Python.framework/Versions/3.7/lib/python3.7/site-packages (from matplotlib) (2020.6.20)\n",
      "Requirement already satisfied: python-dateutil>=2.1 in /Library/Frameworks/Python.framework/Versions/3.7/lib/python3.7/site-packages (from matplotlib) (2.8.1)\n",
      "Requirement already satisfied: cycler>=0.10 in /Library/Frameworks/Python.framework/Versions/3.7/lib/python3.7/site-packages (from matplotlib) (0.10.0)\n",
      "Requirement already satisfied: kiwisolver>=1.0.1 in /Library/Frameworks/Python.framework/Versions/3.7/lib/python3.7/site-packages (from matplotlib) (1.2.0)\n",
      "Requirement already satisfied: six>=1.5 in /Library/Frameworks/Python.framework/Versions/3.7/lib/python3.7/site-packages (from python-dateutil>=2.1->matplotlib) (1.14.0)\n",
      "\u001b[33mWARNING: You are using pip version 20.2.3; however, version 20.2.4 is available.\n",
      "You should consider upgrading via the '/Library/Frameworks/Python.framework/Versions/3.7/bin/python3.7 -m pip install --upgrade pip' command.\u001b[0m\n",
      "Requirement already satisfied: scipy in /Library/Frameworks/Python.framework/Versions/3.7/lib/python3.7/site-packages (1.5.2)\n",
      "Requirement already satisfied: numpy>=1.14.5 in /Library/Frameworks/Python.framework/Versions/3.7/lib/python3.7/site-packages (from scipy) (1.19.2)\n",
      "\u001b[33mWARNING: You are using pip version 20.2.3; however, version 20.2.4 is available.\n",
      "You should consider upgrading via the '/Library/Frameworks/Python.framework/Versions/3.7/bin/python3.7 -m pip install --upgrade pip' command.\u001b[0m\n"
     ]
    }
   ],
   "source": [
    "# Run this cell to install all required modules\n",
    "!pip install numpy\n",
    "!pip install matplotlib\n",
    "!pip install scipy"
   ]
  },
  {
   "cell_type": "code",
   "execution_count": 2,
   "metadata": {},
   "outputs": [],
   "source": [
    "import numpy as np"
   ]
  },
  {
   "cell_type": "markdown",
   "metadata": {},
   "source": [
    "#### Problem 1. Evaluate the below algebraic expressions."
   ]
  },
  {
   "cell_type": "code",
   "execution_count": 3,
   "metadata": {},
   "outputs": [
    {
     "name": "stdout",
     "output_type": "stream",
     "text": [
      "[[2 2]\n",
      " [3 5]]\n"
     ]
    }
   ],
   "source": [
    "# Problem 0 - example\n",
    "A = np.array([[1, 2], [3, 4]])\n",
    "B = np.array([[1, 0], [0, 1]])\n",
    "sol = A + B\n",
    "print(sol)"
   ]
  },
  {
   "cell_type": "code",
   "execution_count": 4,
   "metadata": {},
   "outputs": [
    {
     "name": "stdout",
     "output_type": "stream",
     "text": [
      "[[6 3 6]\n",
      " [7 7 8]]\n"
     ]
    }
   ],
   "source": [
    "# Problem 1 (a)\n",
    "A = np.array([[1, 2, 3], [4, 5, 6]])\n",
    "B = np.array([[5, 1, 3], [3, 2, 2]])\n",
    "sol = A + B\n",
    "print(sol)"
   ]
  },
  {
   "cell_type": "code",
   "execution_count": 5,
   "metadata": {},
   "outputs": [
    {
     "name": "stdout",
     "output_type": "stream",
     "text": [
      "[[2. 1. 5.]\n",
      " [0. 2. 1.]]\n"
     ]
    }
   ],
   "source": [
    "# Problem 1 (b)\n",
    "A = np.array([[3, 1, 3], [1, 2, 2]])\n",
    "B = np.array([[8, 2, 2], [4, 4, 6]])\n",
    "\"\"\" TODO: Write your solution here \"\"\"\n",
    "sol = 2*A - 0.5*B\n",
    "print(sol)"
   ]
  },
  {
   "cell_type": "code",
   "execution_count": 6,
   "metadata": {},
   "outputs": [
    {
     "name": "stdout",
     "output_type": "stream",
     "text": [
      "[[2. 3. 3.]\n",
      " [3. 3. 2.]]\n"
     ]
    }
   ],
   "source": [
    "# Problem 1 (c)\n",
    "A = np.array([[3, 1, 3], [1, 2, 3]])\n",
    "B = np.array([[1, 5, 3], [5, 4, 1]])\n",
    "\"\"\" TODO: Write your solution here \"\"\"\n",
    "sol = 0.5*(A + B)\n",
    "print(sol)"
   ]
  },
  {
   "cell_type": "code",
   "execution_count": 7,
   "metadata": {},
   "outputs": [
    {
     "name": "stdout",
     "output_type": "stream",
     "text": [
      "[[ 4  8]\n",
      " [ 5 10]]\n"
     ]
    }
   ],
   "source": [
    "# Problem 1 (d)\n",
    "A = np.array([[3, 1, 2], [3, 2, 4]])\n",
    "B = np.array([[1, 1, 0], [2, 0, 1]])\n",
    "\"\"\" TODO: Write your solution here \"\"\"\n",
    "sol = np.dot(A, np.transpose(B))\n",
    "print(sol)"
   ]
  },
  {
   "cell_type": "code",
   "execution_count": 8,
   "metadata": {},
   "outputs": [
    {
     "name": "stdout",
     "output_type": "stream",
     "text": [
      "12\n"
     ]
    }
   ],
   "source": [
    "# Problem 1 (e)\n",
    "\"\"\" TODO: Write your solution here \"\"\"\n",
    "sol = np.trace([[1,3,2],[6,4,5],[9,8,7]])\n",
    "print(sol)"
   ]
  },
  {
   "cell_type": "code",
   "execution_count": 9,
   "metadata": {},
   "outputs": [
    {
     "name": "stdout",
     "output_type": "stream",
     "text": [
      "[[ 5.  2.]\n",
      " [-7. -3.]]\n"
     ]
    }
   ],
   "source": [
    "# Problem 1 (f)\n",
    "\"\"\" TODO: Write your solution here \"\"\"\n",
    "sol = np.linalg.inv([[3, 2],[-7, -5]])\n",
    "print(sol)"
   ]
  },
  {
   "cell_type": "code",
   "execution_count": 10,
   "metadata": {},
   "outputs": [
    {
     "name": "stdout",
     "output_type": "stream",
     "text": [
      "[[ 9.  3.  5.]\n",
      " [ 1.  1.  0.]\n",
      " [-1. -0. -1.]]\n"
     ]
    }
   ],
   "source": [
    "# Problem 1 (g)\n",
    "\"\"\" TODO: Write your solution here \"\"\"\n",
    "sol = np.linalg.inv([[1, -3, 5],[-1, 4, -5],[-1, 3, -6]])\n",
    "print(sol)"
   ]
  },
  {
   "cell_type": "code",
   "execution_count": 11,
   "metadata": {},
   "outputs": [
    {
     "name": "stdout",
     "output_type": "stream",
     "text": [
      "-17.0\n"
     ]
    }
   ],
   "source": [
    "# Problem 1 (h)\n",
    "\"\"\" TODO: Write your solution here \"\"\"\n",
    "A= np.array([[1, 3],[4, -5]])\n",
    "sol = np.linalg.det(A)\n",
    "print(sol)"
   ]
  },
  {
   "cell_type": "markdown",
   "metadata": {},
   "source": [
    "#### Problem 2. Solve the following systems of linear equations."
   ]
  },
  {
   "cell_type": "code",
   "execution_count": 12,
   "metadata": {},
   "outputs": [
    {
     "name": "stdout",
     "output_type": "stream",
     "text": [
      "[2. 1.]\n"
     ]
    }
   ],
   "source": [
    "# Problem 2 (a)\n",
    "# 2x + y = 5\n",
    "# -x + 3y = 1\n",
    "\"\"\" TODO: Write your solution here \"\"\"\n",
    "A= np.linalg.inv([[2,1],[-1,3]])\n",
    "B= np.array([5,1])\n",
    "sol = np.dot(A, np.transpose(B))\n",
    "print(sol)"
   ]
  },
  {
   "cell_type": "code",
   "execution_count": 13,
   "metadata": {},
   "outputs": [
    {
     "name": "stdout",
     "output_type": "stream",
     "text": [
      "[-0.5 -0.5  0.5]\n"
     ]
    }
   ],
   "source": [
    "# Problem 2 (b)\n",
    "# 5x + y - 2z = -4\n",
    "# 2x + y + 5z = 1\n",
    "# x - y + 2z = 1\n",
    "\"\"\" TODO: Write your solution here \"\"\"\n",
    "A= np.linalg.inv([[5,1, -2],[2, 1, 5],[1,-1,2]])\n",
    "B= np.array([-4,1,1])\n",
    "sol = np.dot(A, np.transpose(B))\n",
    "print(sol)"
   ]
  },
  {
   "cell_type": "markdown",
   "metadata": {},
   "source": [
    "#### Problem 3. k-Means Clustering"
   ]
  },
  {
   "cell_type": "code",
   "execution_count": 14,
   "metadata": {},
   "outputs": [],
   "source": [
    "import random as rd"
   ]
  },
  {
   "cell_type": "code",
   "execution_count": 15,
   "metadata": {},
   "outputs": [],
   "source": [
    "# Problem 3 (a)\n",
    "from math import *\n",
    "def euclidian_distance(a, b):\n",
    "    \"\"\" \n",
    "    Takes two vectors and returns the Euclidean distance between them \n",
    "    Input: a - input vector a\n",
    "           b - input vector b\n",
    "    Output: the Euclidean distance between vectors a and b\n",
    "    \"\"\"\n",
    "    \n",
    "    \"\"\" TODO: Write your solution here \"\"\"\n",
    "    distance = 0;\n",
    "    for i in range(len(a)):\n",
    "        distance = distance + (a[i]-b[i]) * (a[i]-b[i])\n",
    "    return sqrt(distance)"
   ]
  },
  {
   "cell_type": "code",
   "execution_count": 16,
   "metadata": {},
   "outputs": [],
   "source": [
    "# Problem 3 (b)\n",
    "def kmeans(X, K, max_iter=100, tol=0.00005, distance_metric=euclidian_distance):\n",
    "    \"\"\"\n",
    "    K-Means clustering algorithm. \n",
    "    Input: X - array of input vectors\n",
    "           K - number of centroids\n",
    "           max_iter - limit of iteration\n",
    "           tol - variable to check wheter some of squared error is smaller than some value \n",
    "           distance_metric - the method of calculating distance (ex. euclidean distance)\n",
    "    Output: c - c[i] = centroid which is nearest to i-th vector\n",
    "            centroids - k centroid's location.\n",
    "            log_centroids - history of centroid\n",
    "            log_c - history of c\n",
    "            log_sse - history of sum of suquared error\n",
    "    \"\"\"\n",
    "    \n",
    "    N, d = X.shape\n",
    "    \n",
    "    centroids = np.zeros((K, d))\n",
    "    \n",
    "    sse = np.Inf    # sum of squared error (objective)\n",
    "    \n",
    "    # for bookkeeping\n",
    "    log_sse = []\n",
    "    log_c = []\n",
    "    log_centroids = []\n",
    "\n",
    "    # initialization\n",
    "    for k in range(K):\n",
    "        rand_index = rd.randint(0, N-1)\n",
    "        centroids[k] = X[rand_index]\n",
    "    log_centroids.append(log_centroids)\n",
    "    \n",
    "    # main process\n",
    "    for i in range(max_iter):\n",
    "        \n",
    "        # update the cluster membership\n",
    "        c = []\n",
    "        for n in range(N):\n",
    "            dist_to_centroids = []\n",
    "            \n",
    "            for k in range(K):\n",
    "                dist_to_centroids.append(distance_metric(X[n], centroids[k]))\n",
    "            \n",
    "            c.append(np.argmin(dist_to_centroids)) # cluster membership\n",
    "        log_c.append(c)\n",
    "        \n",
    "        # update the centroids\n",
    "        prev_centroids = centroids  # bookkeeping\n",
    "        centroids = np.zeros((K, d))\n",
    "        for k in range(K):\n",
    "            tmp_sum = np.zeros(d)\n",
    "            tmp_count = 0\n",
    "            for n in range(N):\n",
    "                if c[n] == k:\n",
    "                    tmp_sum += X[n]\n",
    "                    tmp_count += 1\n",
    "            centroids[k] = tmp_sum / tmp_count\n",
    "        log_centroids.append(centroids)\n",
    "        \n",
    "        # estimate the sum of the squared errors (sse)\n",
    "        prev_sse = sse  # bookkeeping\n",
    "        sse = 0\n",
    "        for n in range(N):\n",
    "            sse += distance_metric(X[n], centroids[c[n]]) ** 2\n",
    "        log_sse.append(sse)\n",
    "        \n",
    "        # stopping criterion\n",
    "        if prev_sse - sse < tol:\n",
    "            break\n",
    "    \n",
    "    return c, centroids, log_centroids, log_c, log_sse\n",
    "    "
   ]
  },
  {
   "cell_type": "code",
   "execution_count": 17,
   "metadata": {},
   "outputs": [
    {
     "data": {
      "text/plain": [
       "<matplotlib.collections.PathCollection at 0x7f9f54405b10>"
      ]
     },
     "execution_count": 17,
     "metadata": {},
     "output_type": "execute_result"
    },
    {
     "data": {
      "image/png": "[encoded data removed]",
      "text/plain": [
       "<Figure size 432x288 with 1 Axes>"
      ]
     },
     "metadata": {
      "needs_background": "light"
     },
     "output_type": "display_data"
    }
   ],
   "source": [
    "# Problem 3 (c)\n",
    "import matplotlib\n",
    "import matplotlib.pyplot as plt\n",
    "%matplotlib inline  \n",
    "\n",
    "def generate_random_data(N=100):\n",
    "    \"\"\" \n",
    "    Generates a random dataset (multivariate normal) \n",
    "    Input: N - number of instances to create\n",
    "    Output: X - generated (synthetic) dataset\n",
    "    \"\"\"\n",
    "    \n",
    "    means = [[0, 0], [3, 3], [0, 3], [3, 0]]\n",
    "    covs = [[[0.5, 0], [0, 0.1]], [[0.5, 0], [0, 0.5]], \n",
    "            [[0.5, 0], [0, 1.0]], [[0.3, 0], [0, 0.3]]]\n",
    "\n",
    "    X = np.zeros((N, 2))\n",
    "    for n in range(N):\n",
    "        seed = rd.randint(0, 3)\n",
    "        X[n] = np.random.multivariate_normal(means[seed], covs[seed])\n",
    "    \n",
    "    return X\n",
    "\n",
    "X = generate_random_data()\n",
    "plt.scatter(X[:,0], X[:,1], c='k')\n"
   ]
  },
  {
   "cell_type": "code",
   "execution_count": 18,
   "metadata": {},
   "outputs": [
    {
     "data": {
      "image/png": "[encoded data removed]",
      "text/plain": [
       "<Figure size 432x288 with 1 Axes>"
      ]
     },
     "metadata": {
      "needs_background": "light"
     },
     "output_type": "display_data"
    }
   ],
   "source": [
    "# Problem 3 (c) - part 1\n",
    "\"\"\" TODO: Write your solution here \"\"\"\n",
    "X = generate_random_data()\n",
    "c, centroids, log_centroids, log_c, log_sse = kmeans(X, 4, max_iter=100, tol=0.00005)\n",
    "row, col =X.shape\n",
    "for i in range(row):\n",
    "    if(c[i] == 0):\n",
    "        plt.scatter(X[i][0], X[i][1], c='red')\n",
    "    elif(c[i] == 1):\n",
    "        plt.scatter(X[i][0], X[i][1], c='blue')\n",
    "    elif(c[i] == 2):\n",
    "        plt.scatter(X[i][0], X[i][1], c='green')\n",
    "    else:\n",
    "        plt.scatter(X[i][0], X[i][1], c='orange')\n",
    "\n",
    "ro, co = centroids.shape\n",
    "for i in range(ro):\n",
    "    plt.scatter(centroids[i][0], centroids[i][1], c='black', marker='x')\n",
    "    \n",
    "    "
   ]
  },
  {
   "cell_type": "code",
   "execution_count": 19,
   "metadata": {},
   "outputs": [
    {
     "data": {
      "image/png": "[encoded data removed]",
      "text/plain": [
       "<Figure size 432x288 with 1 Axes>"
      ]
     },
     "metadata": {
      "needs_background": "light"
     },
     "output_type": "display_data"
    }
   ],
   "source": [
    "# Problem 3 (c) - part 2\n",
    "X = generate_random_data()\n",
    "c, centroids, log_centroids, log_c, log_sse = kmeans(X, 2, max_iter=100, tol=0.00005)\n",
    "row, col =X.shape\n",
    "for i in range(row):\n",
    "    if(c[i] == 0):\n",
    "        plt.scatter(X[i][0], X[i][1], c='red')\n",
    "    elif(c[i] == 1):\n",
    "        plt.scatter(X[i][0], X[i][1], c='blue')\n",
    "\n",
    "ro, co = centroids.shape\n",
    "for i in range(ro):\n",
    "    plt.scatter(centroids[i][0], centroids[i][1], c='black', marker='x')"
   ]
  },
  {
   "cell_type": "code",
   "execution_count": 20,
   "metadata": {},
   "outputs": [
    {
     "name": "stdout",
     "output_type": "stream",
     "text": [
      "200\n",
      "4\n"
     ]
    },
    {
     "data": {
      "text/plain": [
       "DescribeResult(nobs=200, minmax=(array([ 0., 18., 15.,  1.]), array([  1.,  70., 137.,  99.])), mean=array([ 0.56, 38.85, 60.56, 50.2 ]), variance=array([2.47638191e-01, 1.95133166e+02, 6.89835578e+02, 6.66854271e+02]), skewness=array([-0.24174689,  0.48191947,  0.31942368, -0.04686531]), kurtosis=array([-1.94155844, -0.68475139, -0.12589283, -0.83595827]))"
      ]
     },
     "execution_count": 20,
     "metadata": {},
     "output_type": "execute_result"
    }
   ],
   "source": [
    "# Problem 3 (d)\n",
    "my_data = np.genfromtxt('Mall_Customers.csv', delimiter=',', skip_header=1)\n",
    "# print(my_data)\n",
    "N, d = my_data.shape\n",
    "print(N)\n",
    "print(d)\n",
    "\n",
    "from scipy import stats\n",
    "stats.describe(my_data)"
   ]
  },
  {
   "cell_type": "code",
   "execution_count": 21,
   "metadata": {},
   "outputs": [],
   "source": [
    "# Problem 3 (d)\n",
    "def normalize(X):\n",
    "    \"\"\"\n",
    "    mean-std normalization (standardization)\n",
    "    Takes and applies a normalization on the input matrix X\n",
    "    Input: X - data matrix (numpy array)\n",
    "    Output: X_normalized - normalized data matrix\n",
    "    \"\"\"\n",
    "    \n",
    "    \"\"\" TODO: Write your solution here \"\"\"\n",
    "    row, col = X.shape\n",
    "    norm_X = np.zeros((row, col))\n",
    "    \n",
    "    mean = X.mean(axis = 0)\n",
    "    var = X.std(axis = 0)\n",
    "    \n",
    "    for i in range(row):\n",
    "        for j in range(col):\n",
    "            norm_X[i][j] = ((X[i][j] - mean[j])/var[j])\n",
    "\n",
    "    return norm_X"
   ]
  },
  {
   "cell_type": "code",
   "execution_count": 25,
   "metadata": {},
   "outputs": [
    {
     "name": "stdout",
     "output_type": "stream",
     "text": [
      "cluster of  0 -th vector :  6\n",
      "cluster of  1 -th vector :  6\n",
      "cluster of  2 -th vector :  4\n",
      "cluster of  3 -th vector :  5\n",
      "cluster of  4 -th vector :  4\n",
      "cluster of  5 -th vector :  5\n",
      "cluster of  6 -th vector :  4\n",
      "cluster of  7 -th vector :  5\n",
      "cluster of  8 -th vector :  7\n",
      "cluster of  9 -th vector :  5\n",
      "cluster of  10 -th vector :  7\n",
      "cluster of  11 -th vector :  5\n",
      "cluster of  12 -th vector :  7\n",
      "cluster of  13 -th vector :  5\n",
      "cluster of  14 -th vector :  6\n",
      "cluster of  15 -th vector :  6\n",
      "cluster of  16 -th vector :  4\n",
      "cluster of  17 -th vector :  6\n",
      "cluster of  18 -th vector :  7\n",
      "cluster of  19 -th vector :  5\n",
      "cluster of  20 -th vector :  6\n",
      "cluster of  21 -th vector :  6\n",
      "cluster of  22 -th vector :  4\n",
      "cluster of  23 -th vector :  6\n",
      "cluster of  24 -th vector :  4\n",
      "cluster of  25 -th vector :  6\n",
      "cluster of  26 -th vector :  4\n",
      "cluster of  27 -th vector :  6\n",
      "cluster of  28 -th vector :  4\n",
      "cluster of  29 -th vector :  5\n",
      "cluster of  30 -th vector :  7\n",
      "cluster of  31 -th vector :  5\n",
      "cluster of  32 -th vector :  7\n",
      "cluster of  33 -th vector :  6\n",
      "cluster of  34 -th vector :  4\n",
      "cluster of  35 -th vector :  5\n",
      "cluster of  36 -th vector :  4\n",
      "cluster of  37 -th vector :  5\n",
      "cluster of  38 -th vector :  4\n",
      "cluster of  39 -th vector :  5\n",
      "cluster of  40 -th vector :  7\n",
      "cluster of  41 -th vector :  6\n",
      "cluster of  42 -th vector :  7\n",
      "cluster of  43 -th vector :  4\n",
      "cluster of  44 -th vector :  4\n",
      "cluster of  45 -th vector :  5\n",
      "cluster of  46 -th vector :  4\n",
      "cluster of  47 -th vector :  4\n",
      "cluster of  48 -th vector :  4\n",
      "cluster of  49 -th vector :  4\n",
      "cluster of  50 -th vector :  4\n",
      "cluster of  51 -th vector :  6\n",
      "cluster of  52 -th vector :  4\n",
      "cluster of  53 -th vector :  7\n",
      "cluster of  54 -th vector :  4\n",
      "cluster of  55 -th vector :  7\n",
      "cluster of  56 -th vector :  4\n",
      "cluster of  57 -th vector :  7\n",
      "cluster of  58 -th vector :  4\n",
      "cluster of  59 -th vector :  7\n",
      "cluster of  60 -th vector :  7\n",
      "cluster of  61 -th vector :  6\n",
      "cluster of  62 -th vector :  7\n",
      "cluster of  63 -th vector :  4\n",
      "cluster of  64 -th vector :  7\n",
      "cluster of  65 -th vector :  6\n",
      "cluster of  66 -th vector :  4\n",
      "cluster of  67 -th vector :  7\n",
      "cluster of  68 -th vector :  6\n",
      "cluster of  69 -th vector :  4\n",
      "cluster of  70 -th vector :  7\n",
      "cluster of  71 -th vector :  4\n",
      "cluster of  72 -th vector :  7\n",
      "cluster of  73 -th vector :  7\n",
      "cluster of  74 -th vector :  7\n",
      "cluster of  75 -th vector :  6\n",
      "cluster of  76 -th vector :  4\n",
      "cluster of  77 -th vector :  6\n",
      "cluster of  78 -th vector :  4\n",
      "cluster of  79 -th vector :  4\n",
      "cluster of  80 -th vector :  7\n",
      "cluster of  81 -th vector :  6\n",
      "cluster of  82 -th vector :  7\n",
      "cluster of  83 -th vector :  4\n",
      "cluster of  84 -th vector :  4\n",
      "cluster of  85 -th vector :  7\n",
      "cluster of  86 -th vector :  4\n",
      "cluster of  87 -th vector :  4\n",
      "cluster of  88 -th vector :  4\n",
      "cluster of  89 -th vector :  4\n",
      "cluster of  90 -th vector :  7\n",
      "cluster of  91 -th vector :  6\n",
      "cluster of  92 -th vector :  7\n",
      "cluster of  93 -th vector :  4\n",
      "cluster of  94 -th vector :  4\n",
      "cluster of  95 -th vector :  6\n",
      "cluster of  96 -th vector :  4\n",
      "cluster of  97 -th vector :  4\n",
      "cluster of  98 -th vector :  7\n",
      "cluster of  99 -th vector :  6\n",
      "cluster of  100 -th vector :  4\n",
      "cluster of  101 -th vector :  4\n",
      "cluster of  102 -th vector :  7\n",
      "cluster of  103 -th vector :  6\n",
      "cluster of  104 -th vector :  7\n",
      "cluster of  105 -th vector :  4\n",
      "cluster of  106 -th vector :  7\n",
      "cluster of  107 -th vector :  7\n",
      "cluster of  108 -th vector :  7\n",
      "cluster of  109 -th vector :  7\n",
      "cluster of  110 -th vector :  7\n",
      "cluster of  111 -th vector :  4\n",
      "cluster of  112 -th vector :  4\n",
      "cluster of  113 -th vector :  6\n",
      "cluster of  114 -th vector :  4\n",
      "cluster of  115 -th vector :  4\n",
      "cluster of  116 -th vector :  7\n",
      "cluster of  117 -th vector :  4\n",
      "cluster of  118 -th vector :  4\n",
      "cluster of  119 -th vector :  4\n",
      "cluster of  120 -th vector :  6\n",
      "cluster of  121 -th vector :  4\n",
      "cluster of  122 -th vector :  4\n",
      "cluster of  123 -th vector :  3\n",
      "cluster of  124 -th vector :  4\n",
      "cluster of  125 -th vector :  1\n",
      "cluster of  126 -th vector :  2\n",
      "cluster of  127 -th vector :  3\n",
      "cluster of  128 -th vector :  7\n",
      "cluster of  129 -th vector :  3\n",
      "cluster of  130 -th vector :  2\n",
      "cluster of  131 -th vector :  3\n",
      "cluster of  132 -th vector :  4\n",
      "cluster of  133 -th vector :  1\n",
      "cluster of  134 -th vector :  2\n",
      "cluster of  135 -th vector :  1\n",
      "cluster of  136 -th vector :  2\n",
      "cluster of  137 -th vector :  3\n",
      "cluster of  138 -th vector :  2\n",
      "cluster of  139 -th vector :  1\n",
      "cluster of  140 -th vector :  2\n",
      "cluster of  141 -th vector :  3\n",
      "cluster of  142 -th vector :  4\n",
      "cluster of  143 -th vector :  1\n",
      "cluster of  144 -th vector :  2\n",
      "cluster of  145 -th vector :  3\n",
      "cluster of  146 -th vector :  2\n",
      "cluster of  147 -th vector :  1\n",
      "cluster of  148 -th vector :  4\n",
      "cluster of  149 -th vector :  3\n",
      "cluster of  150 -th vector :  2\n",
      "cluster of  151 -th vector :  3\n",
      "cluster of  152 -th vector :  2\n",
      "cluster of  153 -th vector :  1\n",
      "cluster of  154 -th vector :  2\n",
      "cluster of  155 -th vector :  1\n",
      "cluster of  156 -th vector :  2\n",
      "cluster of  157 -th vector :  1\n",
      "cluster of  158 -th vector :  2\n",
      "cluster of  159 -th vector :  1\n",
      "cluster of  160 -th vector :  4\n",
      "cluster of  161 -th vector :  1\n",
      "cluster of  162 -th vector :  2\n",
      "cluster of  163 -th vector :  1\n",
      "cluster of  164 -th vector :  2\n",
      "cluster of  165 -th vector :  1\n",
      "cluster of  166 -th vector :  2\n",
      "cluster of  167 -th vector :  1\n",
      "cluster of  168 -th vector :  2\n",
      "cluster of  169 -th vector :  3\n",
      "cluster of  170 -th vector :  2\n",
      "cluster of  171 -th vector :  3\n",
      "cluster of  172 -th vector :  2\n",
      "cluster of  173 -th vector :  3\n",
      "cluster of  174 -th vector :  2\n",
      "cluster of  175 -th vector :  1\n",
      "cluster of  176 -th vector :  2\n",
      "cluster of  177 -th vector :  3\n",
      "cluster of  178 -th vector :  2\n",
      "cluster of  179 -th vector :  3\n",
      "cluster of  180 -th vector :  2\n",
      "cluster of  181 -th vector :  1\n",
      "cluster of  182 -th vector :  2\n",
      "cluster of  183 -th vector :  1\n",
      "cluster of  184 -th vector :  2\n",
      "cluster of  185 -th vector :  3\n",
      "cluster of  186 -th vector :  2\n",
      "cluster of  187 -th vector :  3\n",
      "cluster of  188 -th vector :  2\n",
      "cluster of  189 -th vector :  1\n",
      "cluster of  190 -th vector :  2\n",
      "cluster of  191 -th vector :  1\n",
      "cluster of  192 -th vector :  2\n",
      "cluster of  193 -th vector :  1\n",
      "cluster of  194 -th vector :  2\n",
      "cluster of  195 -th vector :  1\n",
      "cluster of  196 -th vector :  2\n",
      "cluster of  197 -th vector :  3\n",
      "cluster of  198 -th vector :  2\n",
      "cluster of  199 -th vector :  3\n",
      "[379.32242191728955, 330.727946354701, 294.26275017034345, 270.0170352048595, 265.60966577473994, 264.0536453788571, 258.28204796222315, 258.28204796222315]\n"
     ]
    },
    {
     "data": {
      "image/png": "[encoded data removed]",
      "text/plain": [
       "<Figure size 432x288 with 1 Axes>"
      ]
     },
     "metadata": {
      "needs_background": "light"
     },
     "output_type": "display_data"
    }
   ],
   "source": [
    "# Problem 3 (e)\n",
    "\"\"\" TODO: Write your solution here \"\"\"\n",
    "normalized_data = normalize(my_data)\n",
    "\n",
    "c, centroids, log_centroids, log_c, log_sse = kmeans(normalized_data, 7 , max_iter=100, tol=0.00005)\n",
    "plt.title(\"SSE vs #Iterations\")\n",
    "plt.ylabel(\"SSE\")\n",
    "plt.xlabel(\"#iterations\")\n",
    "plt.plot(range(1, len(log_sse)+1), log_sse)\n",
    "for i in range(my_data.shape[0]):\n",
    "    print(\"cluster of \",i, \"-th vector : \", c[i]+1)\n",
    "    \n",
    "print(log_sse)"
   ]
  },
  {
   "cell_type": "code",
   "execution_count": 48,
   "metadata": {},
   "outputs": [
    {
     "name": "stdout",
     "output_type": "stream",
     "text": [
      "=====cluster1=====\n",
      "mean :  [ 0.         49.5625     60.6875     29.97916667]\n",
      "std :  [ 0.         13.75061552 21.90429586 19.34176136]\n",
      "min :  [ 0. 19. 19.  1.]\n",
      "max :  [  0.  70. 113.  60.]\n",
      "=====cluster2=====\n",
      "mean :  [ 0.83636364 27.10909091 47.8        69.14545455]\n",
      "std :  [ 0.36994527  5.41940194 23.35761507 16.86677011]\n",
      "min :  [ 0. 18. 15. 39.]\n",
      "max :  [ 1. 38. 88. 99.]\n",
      "=====cluster3=====\n",
      "mean :  [ 0.16216216 29.89189189 80.75675676 72.48648649]\n",
      "std :  [ 0.36859951  6.433795   25.27086283 18.52481407]\n",
      "min :  [ 0. 18. 38. 18.]\n",
      "max :  [  1.  40. 137.  97.]\n",
      "=====cluster4=====\n",
      "mean :  [ 1.         46.56666667 59.7        35.26666667]\n",
      "std :  [ 0.         10.78326893 24.67069787 15.95709525]\n",
      "min :  [ 1. 20. 16.  5.]\n",
      "max :  [  1.  68. 126.  59.]\n"
     ]
    },
    {
     "data": {
      "image/png": "[encoded data removed]",
      "text/plain": [
       "<Figure size 432x288 with 1 Axes>"
      ]
     },
     "metadata": {
      "needs_background": "light"
     },
     "output_type": "display_data"
    }
   ],
   "source": [
    "# Problem 3 (f)\n",
    "\"\"\" TODO: Write your solution here \"\"\"\n",
    "all_last_sse = []\n",
    "normalized_data = normalize(my_data)\n",
    "#normalized_data = my_data\n",
    "for i in range(12):\n",
    "    c, centroids, log_centroids, log_c, log_sse = kmeans(normalized_data, i+1, max_iter=100, tol=0.00005)\n",
    "    all_last_sse.append(log_sse[len(log_sse)-1])\n",
    "plt.title(\"SSE vs K\")\n",
    "plt.ylabel(\"SSE\")\n",
    "plt.xlabel(\"K\")\n",
    "plt.plot(range(1, 13), all_last_sse)\n",
    "\n",
    "c, centroids, log_centroids, log_c, log_sse = kmeans(normalized_data, 4, max_iter=100, tol=0.00005)\n",
    "cluster1 =[]\n",
    "cluster2 =[]\n",
    "cluster3 =[]\n",
    "cluster4 =[]\n",
    "\n",
    "for i in range(len(c)):\n",
    "    if(c[i] == 0):\n",
    "        cluster1.append(my_data[i])\n",
    "    elif(c[i] == 1):\n",
    "        cluster2.append(my_data[i])\n",
    "    elif(c[i] == 2):\n",
    "        cluster3.append(my_data[i])\n",
    "    else:\n",
    "        cluster4.append(my_data[i])\n",
    "\n",
    "cl1=np.array(cluster1)\n",
    "cl2=np.array(cluster2)\n",
    "cl3=np.array(cluster3)\n",
    "cl4=np.array(cluster4)\n",
    "\n",
    "print(\"=====cluster1=====\")\n",
    "print(\"mean : \", cl1.mean(axis=0))\n",
    "print(\"std : \", cl1.std(axis=0))\n",
    "print(\"min : \", cl1.min(axis=0))\n",
    "print(\"max : \", cl1.max(axis=0))\n",
    "print(\"=====cluster2=====\")\n",
    "print(\"mean : \", cl2.mean(axis=0))\n",
    "print(\"std : \", cl2.std(axis=0))\n",
    "print(\"min : \", cl2.min(axis=0))\n",
    "print(\"max : \", cl2.max(axis=0))\n",
    "print(\"=====cluster3=====\")\n",
    "print(\"mean : \", cl3.mean(axis=0))\n",
    "print(\"std : \", cl3.std(axis=0))\n",
    "print(\"min : \", cl3.min(axis=0))\n",
    "print(\"max : \", cl3.max(axis=0))\n",
    "print(\"=====cluster4=====\")\n",
    "print(\"mean : \", cl4.mean(axis=0))\n",
    "print(\"std : \", cl4.std(axis=0))\n",
    "print(\"min : \", cl4.min(axis=0))\n",
    "print(\"max : \", cl4.max(axis=0))"
   ]
  },
  {
   "cell_type": "code",
   "execution_count": 47,
   "metadata": {},
   "outputs": [],
   "source": [
    "# Problem 3 (g) - Extra point\n",
    "\"\"\" TODO: You may copy the kmeans() function from Problem 3(b) to here\n",
    "         and modify it from this cell \"\"\"\n",
    "def kmeans(X, K, max_iter=100, tol=0.00005, distance_metric=euclidian_distance):\n",
    "    \"\"\"\n",
    "    K-Means clustering algorithm. \n",
    "    Input: X - list of input vectors\n",
    "           K - number of centroids\n",
    "           max_iter - limit of iteration\n",
    "           tol - variable to check wheter some of squared error is smaller than some value \n",
    "           distance_metric - the method of calculating distance (ex. euclidean distance)\n",
    "    Output: c - c[i] = centroid which is nearest to i-th vector\n",
    "            centroids - k centroid's location.\n",
    "            log_centroids - history of centroid\n",
    "            log_c - history of c\n",
    "            log_sse - history of sum of suquared error\n",
    "    \"\"\"\n",
    "    \n",
    "    N, d = X.shape #N * d matrix, N = 전체 점 개수, d = 점 좌표\n",
    "    \n",
    "    centroids = np.zeros((K, d)) #shape of K*d matrix\n",
    "    \n",
    "    sse = np.Inf    # sum of squared error (objective)\n",
    "    \n",
    "    # for bookkeeping\n",
    "    log_sse = [] #\n",
    "    log_c = [] #\n",
    "    log_centroids = [] #\n",
    "\n",
    "    # initialization\n",
    "    for k in range(K):\n",
    "        rand_index = rd.randint(0, N-1) #choose one point\n",
    "        centroids[k] = X[rand_index] #\n",
    "    log_centroids.append(log_centroids) #??\n",
    "    \n",
    "    # main process\n",
    "    for i in range(max_iter):\n",
    "        \n",
    "        # update the cluster membership\n",
    "        c = [] #\n",
    "        for n in range(N): #전체 점 개수 만큼\n",
    "            dist_to_centroids = [] #centroids 까지의 거리\n",
    "            \n",
    "            for k in range(K): #중점 개수 만큼\n",
    "                dist_to_centroids.append(distance_metric(X[n], centroids[k])) #같은점가지고 세 클러스터랑 거리계산\n",
    "            \n",
    "            c.append(np.argmin(dist_to_centroids)) # c? 최솟값에 해당하는 index\n",
    "        log_c.append(c)\n",
    "        \n",
    "        # update the centroids\n",
    "        prev_centroids = centroids  # bookkeeping\n",
    "        centroids = np.zeros((K, d)) #중점들 담은곳\n",
    "        for k in range(K):\n",
    "            tmp_sum = np.zeros(d)\n",
    "            tmp_count = 0\n",
    "            for n in range(N):\n",
    "                if c[n] == k:\n",
    "                    tmp_sum += X[n]\n",
    "                    tmp_count += 1\n",
    "            if(tmp_count>0):\n",
    "                centroids[k] = tmp_sum / tmp_count\n",
    "            else:\n",
    "                centroids[k] = prev_centroids[k]\n",
    "        log_centroids.append(centroids)\n",
    "        # 업뎃끝\n",
    "        \n",
    "        # estimate the sum of the squared errors (sse)\n",
    "        prev_sse = sse  # bookkeeping\n",
    "        sse = 0\n",
    "        for n in range(N):\n",
    "            sse += distance_metric(X[n], centroids[c[n]]) ** 2\n",
    "        log_sse.append(sse)\n",
    "        \n",
    "        # stopping criterion\n",
    "        if prev_sse - sse < tol:\n",
    "            break\n",
    "    \n",
    "    return c, centroids, log_centroids, log_c, log_sse\n",
    "    "
   ]
  },
  {
   "cell_type": "code",
   "execution_count": null,
   "metadata": {},
   "outputs": [],
   "source": []
  },
  {
   "cell_type": "code",
   "execution_count": null,
   "metadata": {},
   "outputs": [],
   "source": []
  },
  {
   "cell_type": "code",
   "execution_count": null,
   "metadata": {},
   "outputs": [],
   "source": []
  },
  {
   "cell_type": "code",
   "execution_count": null,
   "metadata": {},
   "outputs": [],
   "source": []
  }
 ],
 "metadata": {
  "kernelspec": {
   "display_name": "Python 3",
   "language": "python",
   "name": "python3"
  },
  "language_info": {
   "codemirror_mode": {
    "name": "ipython",
    "version": 3
   },
   "file_extension": ".py",
   "mimetype": "text/x-python",
   "name": "python",
   "nbconvert_exporter": "python",
   "pygments_lexer": "ipython3",
   "version": "3.7.7"
  }
 },
 "nbformat": 4,
 "nbformat_minor": 4
}
