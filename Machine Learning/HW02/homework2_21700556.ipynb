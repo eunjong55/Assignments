{
 "cells": [
  {
   "cell_type": "markdown",
   "metadata": {},
   "source": [
    "# Homework Assignment 2"
   ]
  },
  {
   "cell_type": "code",
   "execution_count": 5,
   "metadata": {},
   "outputs": [
    {
     "name": "stdout",
     "output_type": "stream",
     "text": [
      "Requirement already satisfied: numpy in /Library/Frameworks/Python.framework/Versions/3.7/lib/python3.7/site-packages (1.19.2)\n",
      "\u001b[33mWARNING: You are using pip version 20.2.3; however, version 20.2.4 is available.\n",
      "You should consider upgrading via the '/Library/Frameworks/Python.framework/Versions/3.7/bin/python3.7 -m pip install --upgrade pip' command.\u001b[0m\n",
      "Requirement already satisfied: matplotlib in /Library/Frameworks/Python.framework/Versions/3.7/lib/python3.7/site-packages (3.3.2)\n",
      "Requirement already satisfied: kiwisolver>=1.0.1 in /Library/Frameworks/Python.framework/Versions/3.7/lib/python3.7/site-packages (from matplotlib) (1.2.0)\n",
      "Requirement already satisfied: certifi>=2020.06.20 in /Library/Frameworks/Python.framework/Versions/3.7/lib/python3.7/site-packages (from matplotlib) (2020.6.20)\n",
      "Requirement already satisfied: cycler>=0.10 in /Library/Frameworks/Python.framework/Versions/3.7/lib/python3.7/site-packages (from matplotlib) (0.10.0)\n",
      "Requirement already satisfied: pyparsing!=2.0.4,!=2.1.2,!=2.1.6,>=2.0.3 in /Library/Frameworks/Python.framework/Versions/3.7/lib/python3.7/site-packages (from matplotlib) (2.4.7)\n",
      "Requirement already satisfied: python-dateutil>=2.1 in /Library/Frameworks/Python.framework/Versions/3.7/lib/python3.7/site-packages (from matplotlib) (2.8.1)\n",
      "Requirement already satisfied: numpy>=1.15 in /Library/Frameworks/Python.framework/Versions/3.7/lib/python3.7/site-packages (from matplotlib) (1.19.2)\n",
      "Requirement already satisfied: pillow>=6.2.0 in /Library/Frameworks/Python.framework/Versions/3.7/lib/python3.7/site-packages (from matplotlib) (7.2.0)\n",
      "Requirement already satisfied: six in /Library/Frameworks/Python.framework/Versions/3.7/lib/python3.7/site-packages (from cycler>=0.10->matplotlib) (1.14.0)\n",
      "\u001b[33mWARNING: You are using pip version 20.2.3; however, version 20.2.4 is available.\n",
      "You should consider upgrading via the '/Library/Frameworks/Python.framework/Versions/3.7/bin/python3.7 -m pip install --upgrade pip' command.\u001b[0m\n",
      "Requirement already satisfied: scipy in /Library/Frameworks/Python.framework/Versions/3.7/lib/python3.7/site-packages (1.5.2)\n",
      "Requirement already satisfied: numpy>=1.14.5 in /Library/Frameworks/Python.framework/Versions/3.7/lib/python3.7/site-packages (from scipy) (1.19.2)\n",
      "\u001b[33mWARNING: You are using pip version 20.2.3; however, version 20.2.4 is available.\n",
      "You should consider upgrading via the '/Library/Frameworks/Python.framework/Versions/3.7/bin/python3.7 -m pip install --upgrade pip' command.\u001b[0m\n"
     ]
    }
   ],
   "source": [
    "# Run this cell to install all required modules\n",
    "!pip install numpy\n",
    "!pip install matplotlib\n",
    "!pip install scipy"
   ]
  },
  {
   "cell_type": "code",
   "execution_count": 6,
   "metadata": {},
   "outputs": [],
   "source": [
    "import numpy as np"
   ]
  },
  {
   "cell_type": "markdown",
   "metadata": {},
   "source": [
    "#### Problem 2. Prediction with the k-Nearest Neighbors (k-NN) Algorithm"
   ]
  },
  {
   "cell_type": "code",
   "execution_count": 7,
   "metadata": {},
   "outputs": [],
   "source": [
    "# Problem 2 (a)\n",
    "from math import *\n",
    "def euclidean_distance(a, B):\n",
    "    \"\"\" \n",
    "    Takes two vectors and returns the Euclidean distance between them \n",
    "    Input: a - input vector a\n",
    "           B - input matrix B\n",
    "    Output: the Euclidean distances between vector a and rows of matrix B\n",
    "    \"\"\"\n",
    "    row, col = B.shape\n",
    "    dist = []\n",
    "    for j in range(row):\n",
    "        single_distance = 0;\n",
    "        for i in range(a.size):\n",
    "            single_distance = single_distance + ((a[i]-B[j][i]) * (a[i]-B[j][i]))\n",
    "        dist.append(sqrt(single_distance))\n",
    "    return dist"
   ]
  },
  {
   "cell_type": "code",
   "execution_count": 8,
   "metadata": {},
   "outputs": [],
   "source": [
    "# Problem 2 (b)\n",
    "def get_kneighbors(X_test, X_train, k, distance_metric=euclidean_distance):\n",
    "    \"\"\"\n",
    "    Description: Returns the neighbors of X_test in X_train\n",
    "    Input: X_test - test instances (list of instances or matrix)\n",
    "           X_train - training instances (list of instances or matrix)\n",
    "           k - k in kNN; #neighbors\n",
    "           distance_metric - distance metric\n",
    "    Output: index (array index or index in the input list) of the neighboring instances\n",
    "    \"\"\"\n",
    "    \n",
    "    \"\"\" ---- Beginning of code block (1) ---- \"\"\"\n",
    "    neighbors = []\n",
    "    pairwise_dist = [distance_metric(x_test, X_train) for x_test in X_test]\n",
    "\n",
    "    #print(pairwise_dist)\n",
    "    \"\"\" ---- End of code block (1) ---- \"\"\"\n",
    "    \n",
    "    \"\"\" ---- Beginning of code block (2) ---- \"\"\"\n",
    "    for dist in pairwise_dist:\n",
    "        dist_indexed = enumerate(dist)\n",
    "        dist_indexed_sorted = sorted(dist_indexed, key=lambda x: x[1])[:k]\n",
    "        #print(dist_indexed_sorted)\n",
    "        \n",
    "        neighbors_dist = [instance[1] for instance in dist_indexed_sorted]\n",
    "        neighbors_index = [instance[0] for instance in dist_indexed_sorted]\n",
    "        \n",
    "        neighbors.append(neighbors_index)\n",
    "    \"\"\" ---- End of code block (2) ---- \"\"\"\n",
    "        \n",
    "    return np.array(neighbors)\n",
    "\n",
    "\n",
    "def knn_clf(X_test, X_train, y_train, k=3, distance_metric=euclidean_distance):\n",
    "    \"\"\"\n",
    "    Description: KNN Classification; classifies X_test according to (X_train, y_train)\n",
    "    Input: X_test - test instances (list of instances or matrix)\n",
    "           X_train - training instances (list of instances or matrix)\n",
    "           y_train - training labels\n",
    "           k - k in kNN; #neighbors\n",
    "           distance_metric - distance metric\n",
    "    Output: predictions\n",
    "    \"\"\"\n",
    "    \n",
    "    \"\"\" ---- Beginning of code block (3) ---- \"\"\"\n",
    "    ls_neighbors = get_kneighbors(X_test, X_train, k, distance_metric)\n",
    "    #print(ls_neighbors)\n",
    "#     print(type(neighbors[1][0]))\n",
    "    y_pred = np.array([np.argmax(np.bincount(y_train[neighbors])) for neighbors in ls_neighbors])\n",
    "    \"\"\" ---- End of code block (3) ---- \"\"\"\n",
    "    #bincount : 빈도수 확인, 어떤 x_test 하나에 대한 neighbor들의 trining label들의 빈도를 세서 가장많은걸 y_pred 그 x_test의 정체성 결정\n",
    "    return y_pred "
   ]
  },
  {
   "cell_type": "code",
   "execution_count": 9,
   "metadata": {},
   "outputs": [],
   "source": [
    "# Problem 2 (c)\n",
    "def normalize(X, mu=None, sigma=None):\n",
    "    \"\"\"\n",
    "    Normalizes input matrix X.\n",
    "    If mu and sigma are provided, this function normalizes X using them.\n",
    "    Otherwise, the function first estimates mu and sigma from X, and then normalizes X.\n",
    "    Input: X - input matrix\n",
    "           mu - a vector of column-wise mean values (can be omitted)\n",
    "           sigma - a vector of column-wise standard deviation values (can be omitted)\n",
    "    Output: \n",
    "    \"\"\"\n",
    "    if mu is None and sigma is None:\n",
    "        mu = X.mean(axis=0)\n",
    "        sigma = X.std(axis=0)\n",
    "    return (X - mu)/sigma, mu, sigma\n",
    "\n",
    "\n",
    "data_tr = np.genfromtxt('iris_train.csv', delimiter=',', skip_header=1)#for training\n",
    "data_ts = np.genfromtxt('iris_test.csv', delimiter=',', skip_header=1)#for test\n",
    "# N_tr, d_tr = data_tr.shape\n",
    "# print(N_tr)\n",
    "# print(d_tr)\n",
    "# N_ts, d_ts = data_ts.shape\n",
    "# print(N_ts)\n",
    "# print(d_ts)\n",
    "\n",
    "X_tr = data_tr[:, :-1]# 맨 오른쪽 값을 제외하고 모두\n",
    "Y_tr = data_tr[:, -1].astype(np.int64)\n",
    "X_ts = data_ts[:, :-1]\n",
    "Y_ts = data_ts[:, -1].astype(np.int64)\n",
    "# print(X_tr.shape)\n",
    "# print(Y_tr.shape)\n",
    "\n",
    "\n",
    "\"\"\" Data normalization \"\"\" \n",
    "# TODO: Normalize the data matrices below\n",
    "#Recall that both matrices should be normalized according to X_tr.\n",
    "\n",
    "mu = X_tr.mean(axis=0)\n",
    "sigma = X_tr.std(axis=0)\n",
    "n_X_tr ,m, sig= normalize(X_tr, mu, sigma)\n",
    "n_X_ts, m, sig = normalize(X_ts, mu, sigma)\n"
   ]
  },
  {
   "cell_type": "code",
   "execution_count": 10,
   "metadata": {},
   "outputs": [],
   "source": [
    "# Problem 2 (d)\n",
    "def get_accuracy(Y_true, Y_pred):\n",
    "    \"\"\"\n",
    "    Measures the classification accuracy.\n",
    "    Input: Y_true - true label vector (ground truth)\n",
    "           Y_pred - predicted label vector\n",
    "    return a floating point number representing accuracy (a single number of accuracy rate)\n",
    "    \"\"\"\n",
    "    # TODO: Complete the implementation\n",
    "    cnt = 0;\n",
    "    for i in range(Y_true.size):\n",
    "        if Y_true[i] == Y_pred[i]:\n",
    "            cnt +=1\n",
    "    return cnt/Y_true.size"
   ]
  },
  {
   "cell_type": "code",
   "execution_count": 11,
   "metadata": {},
   "outputs": [
    {
     "name": "stdout",
     "output_type": "stream",
     "text": [
      "Y_ts :  [2 1 2 2 1 1 0 1 2 0 0 1 0 2 2 2 2 0 1 0 0 2 2 0 1 0 1 0 1 1]\n",
      "pred :  [2 1 2 2 1 1 0 1 1 0 0 1 0 2 1 2 2 0 1 0 0 2 2 0 1 0 1 0 1 2]\n",
      "0.9\n"
     ]
    }
   ],
   "source": [
    "# Problem 2 (e)\n",
    "# TODO: Write a code snippet that performs classification \n",
    "# on the datasets loaded in Problem 2 (c), using kNN with k = 5; \n",
    "# and then, evaluates the accuracy using your get_accuracy() function\n",
    "\"\"\"\n",
    "1. make a prediction on X_ts using (X_tr, Y_tr) \n",
    "2. print out the predicted labels, and\n",
    "3. print out the prediction accuracy\n",
    "\"\"\"\n",
    "pred = knn_clf(n_X_ts, n_X_tr, Y_tr, 5)\n",
    "print(\"Y_ts : \",Y_ts)\n",
    "print(\"pred : \",pred)\n",
    "print(get_accuracy(Y_ts, pred))"
   ]
  },
  {
   "cell_type": "code",
   "execution_count": 12,
   "metadata": {},
   "outputs": [
    {
     "data": {
      "text/plain": [
       "[<matplotlib.lines.Line2D at 0x7fbe51537e90>]"
      ]
     },
     "execution_count": 12,
     "metadata": {},
     "output_type": "execute_result"
    },
    {
     "data": {
      "image/png": "[encoded data removed]",
      "text/plain": [
       "<Figure size 432x288 with 1 Axes>"
      ]
     },
     "metadata": {
      "needs_background": "light"
     },
     "output_type": "display_data"
    }
   ],
   "source": [
    "# Problem # (f)\n",
    "# TODO: Perform classification using kNN with {k | k is all odd numbers in [3, 40]}. \n",
    "# Collect all accuracies for different k values, and briefly analyze the results.\n",
    "import matplotlib\n",
    "import matplotlib.pyplot as plt\n",
    "%matplotlib inline \n",
    "\n",
    "accuracy_list = []\n",
    "k_list = []\n",
    "for i in range(3, 40):\n",
    "    if i%2 == 1:\n",
    "        k_list.append(i)\n",
    "        pred = knn_clf(n_X_ts, n_X_tr, Y_tr, i)\n",
    "        accuracy_list.append(get_accuracy(Y_ts, pred))\n",
    "plt.title(\"Accuracy vs K\")\n",
    "plt.ylabel(\"Accuracy\")\n",
    "plt.xlabel(\"K\")\n",
    "plt.plot(k_list, accuracy_list)"
   ]
  },
  {
   "cell_type": "code",
   "execution_count": 16,
   "metadata": {},
   "outputs": [],
   "source": [
    "# Problem # (g)\n",
    "def knn_reg(X_test, X_train, y_train, k=3, distance_metric=euclidean_distance):\n",
    "    \"\"\"\n",
    "    Description: KNN Regression; regress X_test according to (X_train, y_train)\n",
    "    Input: X_test - test input attributes (list of instances or matrix)\n",
    "           X_train - training input attributes (list of instances or matrix)\n",
    "           y_train - training output\n",
    "           k - k in kNN; #neighbors\n",
    "           distance_metric - distance metric\n",
    "    Output: predictions\n",
    "    \"\"\"\n",
    "    \"\"\" ---- Beginning of code block (3) ---- \"\"\"\n",
    "    ls_neighbors = get_kneighbors(X_test, X_train, k, distance_metric)\n",
    "\n",
    "    y_pred = np.array([np.mean(y_train[neighbors])for neighbors in ls_neighbors])\n",
    "    \"\"\" ---- End of code block (3) ---- \"\"\"\n",
    "    \n",
    "    return y_pred "
   ]
  },
  {
   "cell_type": "code",
   "execution_count": 17,
   "metadata": {},
   "outputs": [],
   "source": [
    "def get_rmse(y_true, y_pred):\n",
    "    \"\"\"\n",
    "    Measures the regression error using root-mean-square error (RMSE)\n",
    "    Input: Y_true - true output (ground truth)\n",
    "           Y_pred - predicted output\n",
    "    return a floating point number representing RMSE\n",
    "    \"\"\"\n",
    "\n",
    "    assert len(y_true) == len(y_pred)\n",
    "    return np.sqrt(np.mean((y_true - y_pred)**2))\n"
   ]
  },
  {
   "cell_type": "code",
   "execution_count": 18,
   "metadata": {},
   "outputs": [
    {
     "name": "stdout",
     "output_type": "stream",
     "text": [
      "Y_ts :  [17361 34472  1972 21232  8627  4433  4438 24915 23241  9957  8269 18767\n",
      " 36580  8765  5383 12124  2709  3987 12495 26018  8798 35595 42211  1711\n",
      "  8569  2020 16450 21595  9850  6877 21677 44423  4137 13747 12950 12094\n",
      " 37484 39725  2250 22493 20234  1704 33475  3161 11394 21880  7325 44501\n",
      "  3594 39727  8023 14394  9288 25309  3353 10594  8277 17929  2480  4462\n",
      "  1981 11554 48970  6548  5708  7045  8978  5757 14349 10928 39871 13974\n",
      "  1909 12096 13204  4562  8551  2102 34672 15161 11884  4454  5855  4076\n",
      " 15019 19023 10796 11353  9748 10577 41676 11286  3591 33907 11299  4561\n",
      " 44641  1674 23045  3227 16776 11253  3471 11363 20420 10338  8988 10493\n",
      "  2904  8605 11512 41949 24180  5312  2396 10807  9222 36124 38282  5693\n",
      " 34166  8347 46661 18903 40904 14254 10214  5836 14358  1728  8582  3693\n",
      " 20709  9991 19673 11085  7623  3176  3704 36898  9048  7954 27117  6338\n",
      "  9630 11289 52590  2261 10791  5979  2203 12235 40941  5630 11015  7228\n",
      " 39722 14426  2459  3989  7727  5124 18963  2200  7153  5227 10982  4529\n",
      "  4670  6112 17178 22478 11093  6457  4433  2154 23887  6496  2899 19350\n",
      "  7650  2850  2632  9447 18328  8603 37465 13844 21771 13126  5327 13725\n",
      " 13019  8671  4134 18838 33307  5699  6393  4934  6198  8733  2055  9964\n",
      " 18223  5116 36910 38415 20296 12347  5373 23563  1702 10806  3956 12890\n",
      "  5415  4058 41661  7537  4718  6593  8442 26125  6858  4795  6640  7162\n",
      " 10594 11938 60021 20167 12479 11345  8515  2699 14449 12224  6985  3238\n",
      " 47269 49577  4296  3171  1135  5615  9101  6059  1633 37607 18648  1241\n",
      " 16232 15828  4415  6474 11436 11305 30063 10197  4544  3277  6770  7337\n",
      " 10370 26926 10704 34254  1880  8615  3292  3021 14478  4747 17043 10959\n",
      "  2741  4357 22462  4189  8283 24535 14283  1720 47403  8534  3732  5472\n",
      " 38344  7147  7133 34828  1515  9301 11931  1964  1708  4340  5261  2710\n",
      " 62592 46718  3208 37829 21259  2464 16115 21472 33900  6875  6940  4571\n",
      "  4536 36397 18765 11272  1731  1163 19496  7201  5425 28101 12981 43896\n",
      "  4239 13143  7050  9377 22395 10325 12629 10795 11411 10600  2205  1629\n",
      "  2007 29141]\n",
      "pred :  [20643.8 35777.8  1863.4 11619.4  9433.4  9814.2  4638.2 33482.2  8909.6\n",
      " 12534.   9928.4 19941.6 18374.2 13672.6  4858.8 12004.   3265.6  4964.8\n",
      " 16537.8  7949.  12191.6 26533.2 41548.6  1819.2  8287.2  2141.  17809.6\n",
      "  1836.2 11602.   6896.  28338.6 41360.   3734.2 23687.8 11777.2 10805.6\n",
      " 37419.  34129.2  2281.4  6257.4 24513.2  2046.6 27383.6  6197.2  9337.\n",
      " 30889.6  9949.8 38664.2  3515.8 27824.4 12566.8 15921.2  9593.6 29948.2\n",
      "  2879.6 13407.2  9399.   6911.4  4211.4  7486.8  4959.2 14271.2 47122.2\n",
      "  7496.8  5375.4 15233.  10361.6  8176.6 15920.2  9553.  39246.8 16326.2\n",
      "  2003.  14392.4 13225.6  4389.2  7698.2  2179.  32058.4 12468.6  3228.6\n",
      "  6851.6  5719.2  4985.2 12964.4 18085.6 14932.2 13528.   8876.4  9479.\n",
      " 42075.6 11822.6  4091.8 30465.4 11120.   9518.8 40540.   1404.  10933.8\n",
      "  6954.4 17102.   9854.4 10015.4 11279.2  4075.4 10373.   9744.8  9722.4\n",
      "  3395.6 11943.4 13533.8 44499.8 24480.6  8696.2  2319.8 19291.8  9997.\n",
      " 32940.4 37580.6  6105.  24675.6  9601.2 43299.4  7163.6 43137.2 15973.4\n",
      " 10612.2  5876.6  5638.4  2459.4 10494.8  5135.  12029.2 11493.4  2695.8\n",
      " 10204.8 15233.   2879.6  3239.2 30465.4  8051.2  7566.  15953.6  8834.\n",
      "  7639.2  9335.8 31564.6  2300.8 10256.8  6953.   7106.8 12963.2 35106.2\n",
      "  5619.8  9760.4  7475.6 38664.2  4630.6  7106.8  3571.   8929.2  4888.8\n",
      "  5405.2  7105.  12362.8  4090.  11989.6  7512.8  7123.8  7216.8 27957.4\n",
      " 35512.  14658.2  7062.6 10252.6  5292.  25416.  10688.6  3092.6 28612.2\n",
      " 15731.6  2412.   5615.6  9441.  21662.2  8206.6 35151.6 12963.2 20389.4\n",
      "  5574.2  5889.6  5832.6 15536.2  9415.   3509.4 11333.2 24619.   8962.4\n",
      "  6187.4  8314.8  5950.  15038.   2003.   9337.  22235.6  5025.  11967.2\n",
      " 39696.4 20389.4 12617.6  5759.2  8834.   1841.2 10101.4  4207.8  4915.4\n",
      "  5752.6  4696.8 39333.6 10077.4  9086.   6776.2  9425.4 18365.8  7316.\n",
      "  5317.8 10421.   9148.6 15589.6 15410.2 41978.6 20028.6 12297.   9659.\n",
      "  7779.8  2003.  13225.6 14884.4  7503.8  3252.8 45810.  45682.4  5572.4\n",
      "  2323.2  1325.   6504.   8708.6  5371.4  4211.4 39707.2 27383.6  2003.\n",
      " 28360.8  7971.2  4111.8  8137.8 16463.  10215.  14735.  15713.4  3794.4\n",
      "  2928.6  7197.   6585.8 16201.6 21225.8 11481.6 27383.6  2141.   7449.4\n",
      "  6776.4  2617.  12406.8  4920.2 24966.8  9659.   7308.   4446.2 36084.\n",
      "  8472.   8382.4 33410.2 16311.4  1840.8 38739.6 13429.8  3429.4 10707.8\n",
      " 41963.2  9758.6  7117.8 38918.4  1844.  14019.6 15459.6  1651.2  1839.2\n",
      "  4651.   8556.4  3380.2 31744.8 38188.   3156.6 24265.  29155.8  2687.8\n",
      " 17229.  31361.  24675.6  7250.2  6317.6  4446.2  6328.6 29143.6 34616.6\n",
      "  6261.   2209.   1899.4  9925.2  7577.6 11336.4 35748.  11989.6 43881.\n",
      "  6180.6 12611.6 11690.4 12792.8  8865.4  9201.  14436.4  2141.  11110.8\n",
      "  9395.2  7106.8  4209.6  5511.8 29862. ]\n",
      "5756.072375712268\n"
     ]
    }
   ],
   "source": [
    "# Problem # (h)\n",
    "# TODO: Write a script that loads insurance_train.csv \n",
    "# and insurance_test.csv, respectively as the train and test datasets, \n",
    "# and performs regression\n",
    "data_tr = np.genfromtxt('insurance_train.csv', delimiter=',', skip_header=1)#for training\n",
    "data_ts = np.genfromtxt('insurance_test.csv', delimiter=',', skip_header=1)#for test\n",
    "\n",
    "X_tr = data_tr[:, :-1]# 맨 오른쪽 값을 제외하고 모두\n",
    "Y_tr = data_tr[:, -1].astype(np.int64)\n",
    "X_ts = data_ts[:, :-1]\n",
    "Y_ts = data_ts[:, -1].astype(np.int64)\n",
    "# print(X_tr.shape)\n",
    "# print(Y_tr.shape)\n",
    "mu = X_tr.mean(axis=0)\n",
    "sigma = X_tr.std(axis=0)\n",
    "n_X_tr ,m, sig= normalize(X_tr, mu, sigma)\n",
    "n_X_ts, m, sig = normalize(X_ts, mu, sigma)\n",
    "\n",
    "pred = knn_reg(n_X_ts, n_X_tr, Y_tr, 5)\n",
    "print(\"Y_ts : \",Y_ts)\n",
    "print(\"pred : \",pred)\n",
    "print(get_rmse(Y_ts, pred))"
   ]
  },
  {
   "cell_type": "code",
   "execution_count": 19,
   "metadata": {},
   "outputs": [
    {
     "name": "stdout",
     "output_type": "stream",
     "text": [
      "end\n"
     ]
    },
    {
     "data": {
      "image/png": "[encoded data removed]",
      "text/plain": [
       "<Figure size 432x288 with 1 Axes>"
      ]
     },
     "metadata": {
      "needs_background": "light"
     },
     "output_type": "display_data"
    }
   ],
   "source": [
    "# Problem # (i)\n",
    "# TODO: Perform regression on the insurance dataset, \n",
    "# using kNN with {k | k is all odd numbers in [3, 40]}. \n",
    "# Collect all RMSE’s for different k values, and briefly analyze the results.\n",
    "import matplotlib\n",
    "import matplotlib.pyplot as plt\n",
    "%matplotlib inline \n",
    "\n",
    "error_list = []\n",
    "k_list = []\n",
    "for i in range(3, 40):\n",
    "    if i%2 == 1:\n",
    "        k_list.append(i)\n",
    "        pred = knn_reg(n_X_ts, n_X_tr, Y_tr, i)\n",
    "        error_list.append(get_rmse(Y_ts, pred))\n",
    "plt.title(\"RMSE vs K\")\n",
    "plt.ylabel(\"RMSE\")\n",
    "plt.xlabel(\"K\")\n",
    "plt.plot(k_list, error_list)\n",
    "print(\"end\")"
   ]
  },
  {
   "cell_type": "code",
   "execution_count": null,
   "metadata": {},
   "outputs": [],
   "source": []
  },
  {
   "cell_type": "code",
   "execution_count": null,
   "metadata": {},
   "outputs": [],
   "source": []
  }
 ],
 "metadata": {
  "kernelspec": {
   "display_name": "Python 3",
   "language": "python",
   "name": "python3"
  },
  "language_info": {
   "codemirror_mode": {
    "name": "ipython",
    "version": 3
   },
   "file_extension": ".py",
   "mimetype": "text/x-python",
   "name": "python",
   "nbconvert_exporter": "python",
   "pygments_lexer": "ipython3",
   "version": "3.7.7"
  }
 },
 "nbformat": 4,
 "nbformat_minor": 4
}
